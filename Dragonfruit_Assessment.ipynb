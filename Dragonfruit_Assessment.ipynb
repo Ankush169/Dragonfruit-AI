{
 "cells": [
  {
   "cell_type": "markdown",
   "id": "b1b37112",
   "metadata": {},
   "source": [
    "Q1)"
   ]
  },
  {
   "cell_type": "markdown",
   "id": "1784c6bf",
   "metadata": {},
   "source": [
    "Microscope Images:\n",
    "For microscope images, since each pixel is either black (part of the parasite) or white (background), we can efficiently represent the image using a boolean array or a bitset. Given the large size of the images, a bitset would be more memory-efficient. In a bitset, each pixel can be represented by a single bit (0 for white, 1 for black). The total storage size for a 100,000x100,000 image would be approximately 12.5 MB (100,000 x 100,000 / 8 / 1024 / 1024).\n",
    "\n",
    "Worst-case Storage Size: 12.5 MB\n",
    "\n",
    "Dye Sensor Images:\n",
    "For dye sensor images, we need to represent where the dye is lit up. Again, a boolean array or bitset can be used, similar to microscope images. Each pixel would represent whether the dye is present (true) or absent (false). The storage size would be the same as microscope images.\n",
    "\n",
    "Worst-case Storage Size: 12.5 MB"
   ]
  },
  {
   "cell_type": "markdown",
   "id": "96846b6a",
   "metadata": {},
   "source": [
    "Q2"
   ]
  },
  {
   "cell_type": "markdown",
   "id": "d5d47c5b",
   "metadata": {},
   "source": [
    "The given below method of image generation is simple method whose execution speed is good but will take lots of storage.for saving the storage we can apply compression techniques"
   ]
  },
  {
   "cell_type": "code",
   "execution_count": 5,
   "id": "309d9ccc",
   "metadata": {},
   "outputs": [],
   "source": [
    "import numpy as np\n",
    "\n",
    "def generate_fake_microscope_image(size):\n",
    "    return np.random.choice([0, 1], size=(size, size), p=[0.75, 0.25])\n",
    "\n",
    "def generate_fake_dye_image(size, parasite_area):\n",
    "    if parasite_area > size*size:\n",
    "        raise ValueError(\"Parasite area cannot exceed the total number of pixels\")\n",
    "\n",
    "    dye_image = np.zeros((size, size), dtype=bool)\n",
    "    parasite_indices = np.random.choice(size*size, size=parasite_area, replace=False)\n",
    "    rows = parasite_indices // size\n",
    "    cols = parasite_indices % size\n",
    "    dye_image[rows, cols] = True\n",
    "    return dye_image\n",
    "\n",
    "\n",
    "# Example usage:\n",
    "microscope_image = generate_fake_microscope_image(10)\n",
    "dye_image = generate_fake_dye_image(10, 25)"
   ]
  },
  {
   "cell_type": "code",
   "execution_count": null,
   "id": "0cdb56fc",
   "metadata": {},
   "outputs": [],
   "source": []
  },
  {
   "cell_type": "markdown",
   "id": "47ddcba4",
   "metadata": {},
   "source": [
    "Run Length encoding for microspic images because there will be large number of consecutive zeros and ones."
   ]
  },
  {
   "cell_type": "code",
   "execution_count": 7,
   "id": "b8e5104f",
   "metadata": {},
   "outputs": [],
   "source": [
    "import numpy as np\n",
    "\n",
    "def generate_fake_microscope_image_rle(size):\n",
    "    # Generate random binary array representing parasite presence (1) or absence (0)\n",
    "    parasite_presence = np.random.choice([0, 1], size=(size, size), p=[0.75, 0.25])\n",
    "\n",
    "    # Apply RLE to compress the image\n",
    "    compressed_microscope_image = []\n",
    "    for row in parasite_presence:\n",
    "        compressed_row = []\n",
    "        current_pixel = row[0]\n",
    "        count = 1\n",
    "        for pixel in row[1:]:\n",
    "            if pixel == current_pixel:\n",
    "                count += 1\n",
    "            else:\n",
    "                compressed_row.append((current_pixel, count))\n",
    "                current_pixel = pixel\n",
    "                count = 1\n",
    "        compressed_row.append((current_pixel, count))  # Last run\n",
    "        compressed_microscope_image.append(compressed_row)\n",
    "\n",
    "    return compressed_microscope_image\n",
    "\n",
    "# Example usage:\n",
    "compressed_microscope_image = generate_fake_microscope_image_rle(10)\n"
   ]
  },
  {
   "cell_type": "markdown",
   "id": "df1aa428",
   "metadata": {},
   "source": [
    "CSR matrix: It will consider only the area of dye which is discre it will save the storage."
   ]
  },
  {
   "cell_type": "code",
   "execution_count": 12,
   "id": "f55abaf9",
   "metadata": {},
   "outputs": [],
   "source": [
    "\n",
    "\n",
    "import numpy as np\n",
    "import scipy.sparse as sp\n",
    "\n",
    "def generate_fake_dye_image_csr(size, parasite_area):\n",
    "    if parasite_area > size:\n",
    "        raise ValueError(\"Parasite area cannot exceed the size of the image\")\n",
    "\n",
    "    # Generate random positions for parasite presence\n",
    "    parasite_indices = np.random.choice(size, size=parasite_area, replace=False)\n",
    "\n",
    "    # Create CSR matrix to represent dye image\n",
    "    dye_image_data = np.ones(parasite_area, dtype=bool)\n",
    "    dye_image_indices = np.zeros(parasite_area, dtype=int)\n",
    "    dye_image_indices[:parasite_area] = parasite_indices\n",
    "    dye_image = sp.csr_matrix((dye_image_data, (np.zeros(parasite_area), dye_image_indices)), shape=(1, size))\n",
    "\n",
    "    return dye_image\n",
    "\n",
    "\n",
    "# Example usage:\n",
    "dye_image = generate_fake_dye_image_csr(25, 10)  # Assuming parasite occupies 25% of the image\n"
   ]
  },
  {
   "cell_type": "markdown",
   "id": "844f47c5",
   "metadata": {},
   "source": [
    "Q3) Testing of cancer:\n",
    "I have taken the and of the microscopic image and dye sensor image for extracting the area of sye inside parasite"
   ]
  },
  {
   "cell_type": "code",
   "execution_count": 13,
   "id": "06d06006",
   "metadata": {},
   "outputs": [],
   "source": [
    "def has_cancer(microscope_image, dye_image):\n",
    "    parasite_area = np.sum(microscope_image)\n",
    "    dye_detected_area = np.sum(np.logical_and(microscope_image, dye_image))\n",
    "    return dye_detected_area > 0.1 * parasite_area\n",
    "\n",
    "# Example usage:\n",
    "cancer_detected = has_cancer(microscope_image, dye_image)\n",
    "\n"
   ]
  },
  {
   "cell_type": "markdown",
   "id": "2e66d284",
   "metadata": {},
   "source": [
    "Q4) Optimized Solution:\n",
    "To improve the execution speed, we can optimize the has_cancer function by vectorizing operations and avoiding unnecessary loops. "
   ]
  },
  {
   "cell_type": "code",
   "execution_count": 14,
   "id": "b1702020",
   "metadata": {},
   "outputs": [],
   "source": [
    "def has_cancer_optimized(microscope_image, dye_image):\n",
    "    parasite_area = np.count_nonzero(microscope_image)\n",
    "    dye_detected_area = np.count_nonzero(microscope_image & dye_image)\n",
    "    return dye_detected_area > 0.1 * parasite_area\n"
   ]
  },
  {
   "cell_type": "markdown",
   "id": "e377d984",
   "metadata": {},
   "source": [
    "Q5"
   ]
  },
  {
   "cell_type": "markdown",
   "id": "ec112cf6",
   "metadata": {},
   "source": [
    "Huffman Coding:\n",
    "\n",
    "Huffman coding is a lossless data compression algorithm that assigns variable-length codes to input characters, with shorter codes assigned to more frequent characters.\n",
    "It is particularly effective for compressing text and can achieve significant compression ratios depending on the frequency distribution of characters.\n",
    "Unlike RLE, which is more suitable for compressing images with long runs of identical pixels, Huffman coding is more versatile and can compress a wider range of data types."
   ]
  },
  {
   "cell_type": "markdown",
   "id": "a2d365d2",
   "metadata": {},
   "source": [
    "Lempel-Ziv-Welch (LZW) Compression:\n",
    "\n",
    "LZW compression is a dictionary-based compression algorithm used in file formats like GIF and TIFF.\n",
    "It replaces repeated occurrences of data with references to a single copy of that data existing earlier in the uncompressed data stream.\n",
    "LZW compression can achieve good compression ratios for various types of data, including images and text."
   ]
  },
  {
   "cell_type": "markdown",
   "id": "2f15a063",
   "metadata": {},
   "source": [
    "Delta Encoding:\n",
    "\n",
    "Delta encoding is a technique where data is stored as the difference (delta) between consecutive values instead of the actual values.\n",
    "It is particularly effective for compressing sequences of values that have small variations between adjacent elements.\n",
    "Delta encoding can be useful for compressing time-series data or spatial data where neighboring elements are likely to have similar values.\n"
   ]
  },
  {
   "cell_type": "markdown",
   "id": "895566c4",
   "metadata": {},
   "source": [
    "Comparison with RLE and Sparse Matrix:\n",
    "Speed:\n",
    "\n",
    "Huffman coding and LZW compression typically involve more complex algorithms compared to RLE, which may result in higher computational overhead.\n",
    "Delta encoding may have similar or slightly higher computational overhead compared to RLE, depending on the implementation.\n",
    "Sparse matrix representations like CSR may have faster access times for specific operations due to their optimized data structures, but the overhead of constructing and managing sparse matrices can also impact performance.\n",
    "Storage:\n",
    "\n",
    "Huffman coding and LZW compression can achieve higher compression ratios than RLE for certain types of data, leading to smaller storage sizes.\n",
    "Delta encoding may achieve comparable compression ratios to RLE for certain data types, but it depends on the characteristics of the data.\n",
    "Sparse matrix representations like CSR can be more memory-efficient for matrices with a large number of zero elements compared to dense representations, but they may require additional memory overhead for storing indices and data arrays"
   ]
  },
  {
   "cell_type": "markdown",
   "id": "991f015b",
   "metadata": {},
   "source": [
    "Q6)"
   ]
  },
  {
   "cell_type": "markdown",
   "id": "a2fcaa5e",
   "metadata": {},
   "source": [
    "Python for coding and simulation.\n",
    "Numpy for efficient array operations.\n",
    "I used my knowledge and experience with image processing and compression techniques to address the challenge.\n",
    "Utilized internet resources such as documentation, Stack Overflow, and academic papers to gather information on efficient data structures, compression techniques, and optimization strategies.\n",
    "Leveraged my understanding of vectorized operations in NumPy to optimize the processing speed."
   ]
  },
  {
   "cell_type": "code",
   "execution_count": null,
   "id": "89676c16",
   "metadata": {},
   "outputs": [],
   "source": []
  }
 ],
 "metadata": {
  "kernelspec": {
   "display_name": "Python 3 (ipykernel)",
   "language": "python",
   "name": "python3"
  },
  "language_info": {
   "codemirror_mode": {
    "name": "ipython",
    "version": 3
   },
   "file_extension": ".py",
   "mimetype": "text/x-python",
   "name": "python",
   "nbconvert_exporter": "python",
   "pygments_lexer": "ipython3",
   "version": "3.11.4"
  }
 },
 "nbformat": 4,
 "nbformat_minor": 5
}
